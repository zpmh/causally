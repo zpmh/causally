{
 "cells": [
  {
   "cell_type": "code",
   "execution_count": null,
   "metadata": {},
   "outputs": [],
   "source": [
    "import pandas as pd\n",
    "import numpy as np\n",
    "from pgmpy.estimators import PC\n",
    "data = pd.DataFrame(np.random.rand(5000, 3) * 4, columns=list('ABD'))\n",
    "data['C'] = data['A'] - data['B']\n",
    "data['D'] += data['A']\n",
    "c = PC(data)\n",
    "pdag = c.skeleton_to_pdag(*c.build_skeleton())\n",
    "pdag.edges() # edges: A->C, B->C, A--D (not directed)"
   ]
  },
  {
   "cell_type": "code",
   "execution_count": null,
   "metadata": {},
   "outputs": [],
   "source": [
    "data\n"
   ]
  }
 ],
 "metadata": {
  "kernelspec": {
   "display_name": "causally_env",
   "language": "python",
   "name": "python3"
  },
  "language_info": {
   "codemirror_mode": {
    "name": "ipython",
    "version": 3
   },
   "file_extension": ".py",
   "mimetype": "text/x-python",
   "name": "python",
   "nbconvert_exporter": "python",
   "pygments_lexer": "ipython3",
   "version": "3.10.11"
  }
 },
 "nbformat": 4,
 "nbformat_minor": 2
}
